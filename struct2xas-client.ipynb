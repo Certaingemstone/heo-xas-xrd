{
 "cells": [
  {
   "cell_type": "code",
   "execution_count": 1,
   "id": "c4a9bd7a",
   "metadata": {},
   "outputs": [],
   "source": [
    "from os.path import join\n",
    "from os import getcwd\n",
    "\n",
    "import numpy as np\n",
    "import matplotlib.pyplot as plt\n",
    "\n",
    "from struct2xas import Struct2XAS"
   ]
  },
  {
   "cell_type": "code",
   "execution_count": 5,
   "id": "5a2e02f7",
   "metadata": {},
   "outputs": [],
   "source": [
    "root = r\"C:\\Users\\jade2\\Dropbox (Personal)\\Jade_CNRS_Internship\\Data\\CIF_references\"\n",
    "template = r\"C:\\Users\\jade2\\Dropbox (Personal)\\Jade_CNRS_Internship\\heo-xas-xrd\\fdmnes.tmpl\"\n",
    "# namesZnO_W = ['EntryWithCollCode157724', 'EntryWithCollCode154486'] # ICSD\n",
    "# namesZnO_R = ['EntryWithCollCode190807', 'EntryWithCollCode57156'] # ICSD\n",
    "# namesCuO_T = ['COD4105682', 'COD9008961']\n",
    "# namesNiO_R = ['EntryWithCollCode9866']\n",
    "# namesZnO_Sp = ['ICSD_CollCode73755', ] # I need to download these; there are many\n",
    "# namesCo3O4 = ['COD9005892', 'COD1526734']\n",
    "# namesCoO = ['COD1528838', 'COD1533087']\n",
    "# ZnCo2O4 = 'COD5910136'\n",
    "Co15Zn85O = 'COD1533020'"
   ]
  },
  {
   "cell_type": "code",
   "execution_count": 6,
   "id": "3c10ca95",
   "metadata": {},
   "outputs": [
    {
     "name": "stdout",
     "output_type": "stream",
     "text": [
      "[struct2xas] INFO : Frames: 1, Absorbing sites: 1. (Indexes for frames and abs_sites start at 0)\n",
      "[[0, 'Zn:0.850, Co:0.150', [0.3333, 0.6667, 0.0], '2b', array([0.    , 1.8786, 0.    ]), 0.15, 0]]\n"
     ]
    },
    {
     "data": {
      "application/3dmoljs_load.v0": "<div id=\"3dmolviewer_16904572634059188\"  style=\"position: relative; width: 600px; height: 600px\">\n        <p id=\"3dmolwarning_16904572634059188\" style=\"background-color:#ffcccc;color:black\">You appear to be running in JupyterLab (or JavaScript failed to load for some other reason).  You need to install the 3dmol extension: <br>\n        <tt>jupyter labextension install jupyterlab_3dmol</tt></p>\n        </div>\n<script>\n\nvar loadScriptAsync = function(uri){\n  return new Promise((resolve, reject) => {\n    //this is to ignore the existence of requirejs amd\n    var savedexports, savedmodule;\n    if (typeof exports !== 'undefined') savedexports = exports;\n    else exports = {}\n    if (typeof module !== 'undefined') savedmodule = module;\n    else module = {}\n\n    var tag = document.createElement('script');\n    tag.src = uri;\n    tag.async = true;\n    tag.onload = () => {\n        exports = savedexports;\n        module = savedmodule;\n        resolve();\n    };\n  var firstScriptTag = document.getElementsByTagName('script')[0];\n  firstScriptTag.parentNode.insertBefore(tag, firstScriptTag);\n});\n};\n\nif(typeof $3Dmolpromise === 'undefined') {\n$3Dmolpromise = null;\n  $3Dmolpromise = loadScriptAsync('https://cdnjs.cloudflare.com/ajax/libs/3Dmol/2.0.1/3Dmol-min.js');\n}\n\nvar viewer_16904572634059188 = null;\nvar warn = document.getElementById(\"3dmolwarning_16904572634059188\");\nif(warn) {\n    warn.parentNode.removeChild(warn);\n}\n$3Dmolpromise.then(function() {\nviewer_16904572634059188 = $3Dmol.createViewer(document.getElementById(\"3dmolviewer_16904572634059188\"),{backgroundColor:\"white\"});\nviewer_16904572634059188.zoomTo();\n\tviewer_16904572634059188.addModel(\"125\\n\\nCo 0.000000 -0.000018 0.000000\\nO 0.000000 1.878565 -0.616721\\nO -1.626900 -0.939309 -0.616721\\nO 1.626900 -0.939309 -0.616721\\nO 0.000000 -0.000018 1.985479\\nCo 0.000000 1.878565 -2.602200\\nCo 0.000000 1.878565 2.602200\\nCo -1.626900 -0.939309 -2.602200\\nCo -1.626900 -0.939309 2.602200\\nCo 1.626900 -0.939309 -2.602200\\nCo 1.626900 -0.939309 2.602200\\nO 0.000000 -0.000018 -3.218921\\nCo -1.626900 2.817856 0.000000\\nCo 1.626900 2.817856 0.000000\\nCo -3.253800 -0.000018 -0.000000\\nCo 3.253800 -0.000018 0.000000\\nCo -1.626900 -2.817891 -0.000000\\nCo 1.626900 -2.817891 -0.000000\\nO -3.253800 1.878565 -0.616721\\nO 3.253800 1.878565 -0.616721\\nO 0.000000 -3.757182 -0.616721\\nO -1.626900 2.817856 1.985479\\nO 1.626900 2.817856 1.985479\\nO -3.253800 -0.000018 1.985479\\nO 3.253800 -0.000018 1.985479\\nO -1.626900 -2.817891 1.985479\\nO 1.626900 -2.817891 1.985479\\nCo -3.253800 1.878565 -2.602200\\nCo -3.253800 1.878565 2.602200\\nCo 3.253800 1.878565 -2.602200\\nCo 3.253800 1.878565 2.602200\\nCo 0.000000 -3.757182 -2.602200\\nCo 0.000000 -3.757182 2.602200\\nO -1.626900 2.817856 -3.218921\\nO 1.626900 2.817856 -3.218921\\nO -3.253800 -0.000018 -3.218921\\nO 3.253800 -0.000018 -3.218921\\nO -1.626900 -2.817891 -3.218921\\nO 1.626900 -2.817891 -3.218921\\nO 0.000000 1.878565 4.587679\\nO -1.626900 -0.939309 4.587679\\nO 1.626900 -0.939309 4.587679\\nO -1.626900 4.696438 -0.616721\\nO 1.626900 4.696438 -0.616721\\nO -4.880700 -0.939309 -0.616721\\nO 4.880700 -0.939309 -0.616721\\nO -3.253800 -3.757182 -0.616721\\nO 3.253800 -3.757182 -0.616721\\nCo 0.000000 -0.000018 -5.204400\\nCo 0.000000 -0.000018 5.204400\\nCo -1.626900 4.696438 -2.602200\\nCo -1.626900 4.696438 2.602200\\nCo 1.626900 4.696438 -2.602200\\nCo 1.626900 4.696438 2.602200\\nCo -4.880700 -0.939309 -2.602200\\nCo -4.880700 -0.939309 2.602200\\nCo 4.880700 -0.939309 -2.602200\\nCo 4.880700 -0.939309 2.602200\\nCo -3.253800 -3.757182 -2.602200\\nCo -3.253800 -3.757182 2.602200\\nCo 3.253800 -3.757182 -2.602200\\nCo 3.253800 -3.757182 2.602200\\nCo 0.000000 5.635729 0.000000\\nCo -4.880700 2.817856 0.000000\\nCo 4.880700 2.817856 0.000000\\nCo -4.880700 -2.817891 -0.000000\\nCo 4.880700 -2.817891 0.000000\\nCo -0.000000 -5.635765 -0.000000\\nO -3.253800 1.878565 4.587679\\nO 3.253800 1.878565 4.587679\\nO 0.000000 -3.757182 4.587679\\nO -4.880700 2.817856 1.985479\\nO 4.880700 2.817856 1.985479\\nO 0.000000 5.635729 1.985479\\nO -4.880700 -2.817891 1.985479\\nO 4.880700 -2.817891 1.985479\\nO -0.000000 -5.635765 1.985479\\nO -1.626900 -0.939309 -5.821121\\nO 1.626900 -0.939309 -5.821121\\nO 0.000000 1.878565 -5.821121\\nCo -1.626900 2.817856 -5.204400\\nCo -1.626900 2.817856 5.204400\\nCo 1.626900 2.817856 -5.204400\\nCo 1.626900 2.817856 5.204400\\nCo -3.253800 -0.000018 -5.204400\\nCo -3.253800 -0.000018 5.204400\\nCo 3.253800 -0.000018 -5.204400\\nCo 3.253800 -0.000018 5.204400\\nCo -1.626900 -2.817891 -5.204400\\nCo -1.626900 -2.817891 5.204400\\nCo 1.626900 -2.817891 -5.204400\\nCo 1.626900 -2.817891 5.204400\\nO -4.880700 2.817856 -3.218921\\nO 4.880700 2.817856 -3.218921\\nO 0.000000 5.635729 -3.218921\\nO -4.880700 -2.817891 -3.218921\\nO 4.880700 -2.817891 -3.218921\\nO -0.000000 -5.635765 -3.218921\\nCo -3.253800 5.635729 0.000000\\nCo 3.253800 5.635729 0.000000\\nCo -6.507600 -0.000018 -0.000000\\nCo 6.507600 -0.000018 0.000000\\nCo -3.253800 -5.635765 -0.000000\\nCo 3.253800 -5.635765 -0.000000\\nO -1.626900 4.696438 4.587679\\nO 1.626900 4.696438 4.587679\\nO -4.880700 -0.939309 4.587679\\nO 4.880700 -0.939309 4.587679\\nO -3.253800 -3.757182 4.587679\\nO 3.253800 -3.757182 4.587679\\nO -4.880700 4.696438 -0.616721\\nO 4.880700 4.696438 -0.616721\\nO -6.507600 1.878565 -0.616721\\nO 6.507600 1.878565 -0.616721\\nO -1.626900 -6.575056 -0.616721\\nO 1.626900 -6.575056 -0.616721\\nO -3.253800 5.635729 1.985479\\nO 3.253800 5.635729 1.985479\\nO -6.507600 -0.000018 1.985479\\nO 6.507600 -0.000018 1.985479\\nO -3.253800 -5.635765 1.985479\\nO 3.253800 -5.635765 1.985479\\nO -3.253800 1.878565 -5.821121\\nO 3.253800 1.878565 -5.821121\\nO 0.000000 -3.757182 -5.821121\\n\",\"xyz\");\n\tviewer_16904572634059188.setStyle({\"elem\": \"Co\"},{\"stick\": {\"radius\": 0.1, \"opacity\": 1, \"hidden\": false, \"color\": \"red\"}, \"sphere\": {\"color\": \"red\", \"radius\": 0.4, \"opacity\": 1}});\n\tviewer_16904572634059188.setStyle({\"elem\": \"O\"},{\"stick\": {\"radius\": 0.1, \"opacity\": 1, \"hidden\": false, \"color\": \"blue\"}, \"sphere\": {\"color\": \"blue\", \"radius\": 0.4, \"opacity\": 1}});\n\tviewer_16904572634059188.addLabel(\"Abs\",{\"fontColor\": \"black\", \"fontSize\": 14, \"backgroundColor\": \"white\", \"backgroundOpacity\": 0.8, \"showBackground\": true},{\"index\": 0});\n\tviewer_16904572634059188.zoomTo();\nviewer_16904572634059188.render();\n});\n</script>",
      "text/html": [
       "<div id=\"3dmolviewer_16904572634059188\"  style=\"position: relative; width: 600px; height: 600px\">\n",
       "        <p id=\"3dmolwarning_16904572634059188\" style=\"background-color:#ffcccc;color:black\">You appear to be running in JupyterLab (or JavaScript failed to load for some other reason).  You need to install the 3dmol extension: <br>\n",
       "        <tt>jupyter labextension install jupyterlab_3dmol</tt></p>\n",
       "        </div>\n",
       "<script>\n",
       "\n",
       "var loadScriptAsync = function(uri){\n",
       "  return new Promise((resolve, reject) => {\n",
       "    //this is to ignore the existence of requirejs amd\n",
       "    var savedexports, savedmodule;\n",
       "    if (typeof exports !== 'undefined') savedexports = exports;\n",
       "    else exports = {}\n",
       "    if (typeof module !== 'undefined') savedmodule = module;\n",
       "    else module = {}\n",
       "\n",
       "    var tag = document.createElement('script');\n",
       "    tag.src = uri;\n",
       "    tag.async = true;\n",
       "    tag.onload = () => {\n",
       "        exports = savedexports;\n",
       "        module = savedmodule;\n",
       "        resolve();\n",
       "    };\n",
       "  var firstScriptTag = document.getElementsByTagName('script')[0];\n",
       "  firstScriptTag.parentNode.insertBefore(tag, firstScriptTag);\n",
       "});\n",
       "};\n",
       "\n",
       "if(typeof $3Dmolpromise === 'undefined') {\n",
       "$3Dmolpromise = null;\n",
       "  $3Dmolpromise = loadScriptAsync('https://cdnjs.cloudflare.com/ajax/libs/3Dmol/2.0.1/3Dmol-min.js');\n",
       "}\n",
       "\n",
       "var viewer_16904572634059188 = null;\n",
       "var warn = document.getElementById(\"3dmolwarning_16904572634059188\");\n",
       "if(warn) {\n",
       "    warn.parentNode.removeChild(warn);\n",
       "}\n",
       "$3Dmolpromise.then(function() {\n",
       "viewer_16904572634059188 = $3Dmol.createViewer(document.getElementById(\"3dmolviewer_16904572634059188\"),{backgroundColor:\"white\"});\n",
       "viewer_16904572634059188.zoomTo();\n",
       "\tviewer_16904572634059188.addModel(\"125\\n\\nCo 0.000000 -0.000018 0.000000\\nO 0.000000 1.878565 -0.616721\\nO -1.626900 -0.939309 -0.616721\\nO 1.626900 -0.939309 -0.616721\\nO 0.000000 -0.000018 1.985479\\nCo 0.000000 1.878565 -2.602200\\nCo 0.000000 1.878565 2.602200\\nCo -1.626900 -0.939309 -2.602200\\nCo -1.626900 -0.939309 2.602200\\nCo 1.626900 -0.939309 -2.602200\\nCo 1.626900 -0.939309 2.602200\\nO 0.000000 -0.000018 -3.218921\\nCo -1.626900 2.817856 0.000000\\nCo 1.626900 2.817856 0.000000\\nCo -3.253800 -0.000018 -0.000000\\nCo 3.253800 -0.000018 0.000000\\nCo -1.626900 -2.817891 -0.000000\\nCo 1.626900 -2.817891 -0.000000\\nO -3.253800 1.878565 -0.616721\\nO 3.253800 1.878565 -0.616721\\nO 0.000000 -3.757182 -0.616721\\nO -1.626900 2.817856 1.985479\\nO 1.626900 2.817856 1.985479\\nO -3.253800 -0.000018 1.985479\\nO 3.253800 -0.000018 1.985479\\nO -1.626900 -2.817891 1.985479\\nO 1.626900 -2.817891 1.985479\\nCo -3.253800 1.878565 -2.602200\\nCo -3.253800 1.878565 2.602200\\nCo 3.253800 1.878565 -2.602200\\nCo 3.253800 1.878565 2.602200\\nCo 0.000000 -3.757182 -2.602200\\nCo 0.000000 -3.757182 2.602200\\nO -1.626900 2.817856 -3.218921\\nO 1.626900 2.817856 -3.218921\\nO -3.253800 -0.000018 -3.218921\\nO 3.253800 -0.000018 -3.218921\\nO -1.626900 -2.817891 -3.218921\\nO 1.626900 -2.817891 -3.218921\\nO 0.000000 1.878565 4.587679\\nO -1.626900 -0.939309 4.587679\\nO 1.626900 -0.939309 4.587679\\nO -1.626900 4.696438 -0.616721\\nO 1.626900 4.696438 -0.616721\\nO -4.880700 -0.939309 -0.616721\\nO 4.880700 -0.939309 -0.616721\\nO -3.253800 -3.757182 -0.616721\\nO 3.253800 -3.757182 -0.616721\\nCo 0.000000 -0.000018 -5.204400\\nCo 0.000000 -0.000018 5.204400\\nCo -1.626900 4.696438 -2.602200\\nCo -1.626900 4.696438 2.602200\\nCo 1.626900 4.696438 -2.602200\\nCo 1.626900 4.696438 2.602200\\nCo -4.880700 -0.939309 -2.602200\\nCo -4.880700 -0.939309 2.602200\\nCo 4.880700 -0.939309 -2.602200\\nCo 4.880700 -0.939309 2.602200\\nCo -3.253800 -3.757182 -2.602200\\nCo -3.253800 -3.757182 2.602200\\nCo 3.253800 -3.757182 -2.602200\\nCo 3.253800 -3.757182 2.602200\\nCo 0.000000 5.635729 0.000000\\nCo -4.880700 2.817856 0.000000\\nCo 4.880700 2.817856 0.000000\\nCo -4.880700 -2.817891 -0.000000\\nCo 4.880700 -2.817891 0.000000\\nCo -0.000000 -5.635765 -0.000000\\nO -3.253800 1.878565 4.587679\\nO 3.253800 1.878565 4.587679\\nO 0.000000 -3.757182 4.587679\\nO -4.880700 2.817856 1.985479\\nO 4.880700 2.817856 1.985479\\nO 0.000000 5.635729 1.985479\\nO -4.880700 -2.817891 1.985479\\nO 4.880700 -2.817891 1.985479\\nO -0.000000 -5.635765 1.985479\\nO -1.626900 -0.939309 -5.821121\\nO 1.626900 -0.939309 -5.821121\\nO 0.000000 1.878565 -5.821121\\nCo -1.626900 2.817856 -5.204400\\nCo -1.626900 2.817856 5.204400\\nCo 1.626900 2.817856 -5.204400\\nCo 1.626900 2.817856 5.204400\\nCo -3.253800 -0.000018 -5.204400\\nCo -3.253800 -0.000018 5.204400\\nCo 3.253800 -0.000018 -5.204400\\nCo 3.253800 -0.000018 5.204400\\nCo -1.626900 -2.817891 -5.204400\\nCo -1.626900 -2.817891 5.204400\\nCo 1.626900 -2.817891 -5.204400\\nCo 1.626900 -2.817891 5.204400\\nO -4.880700 2.817856 -3.218921\\nO 4.880700 2.817856 -3.218921\\nO 0.000000 5.635729 -3.218921\\nO -4.880700 -2.817891 -3.218921\\nO 4.880700 -2.817891 -3.218921\\nO -0.000000 -5.635765 -3.218921\\nCo -3.253800 5.635729 0.000000\\nCo 3.253800 5.635729 0.000000\\nCo -6.507600 -0.000018 -0.000000\\nCo 6.507600 -0.000018 0.000000\\nCo -3.253800 -5.635765 -0.000000\\nCo 3.253800 -5.635765 -0.000000\\nO -1.626900 4.696438 4.587679\\nO 1.626900 4.696438 4.587679\\nO -4.880700 -0.939309 4.587679\\nO 4.880700 -0.939309 4.587679\\nO -3.253800 -3.757182 4.587679\\nO 3.253800 -3.757182 4.587679\\nO -4.880700 4.696438 -0.616721\\nO 4.880700 4.696438 -0.616721\\nO -6.507600 1.878565 -0.616721\\nO 6.507600 1.878565 -0.616721\\nO -1.626900 -6.575056 -0.616721\\nO 1.626900 -6.575056 -0.616721\\nO -3.253800 5.635729 1.985479\\nO 3.253800 5.635729 1.985479\\nO -6.507600 -0.000018 1.985479\\nO 6.507600 -0.000018 1.985479\\nO -3.253800 -5.635765 1.985479\\nO 3.253800 -5.635765 1.985479\\nO -3.253800 1.878565 -5.821121\\nO 3.253800 1.878565 -5.821121\\nO 0.000000 -3.757182 -5.821121\\n\",\"xyz\");\n",
       "\tviewer_16904572634059188.setStyle({\"elem\": \"Co\"},{\"stick\": {\"radius\": 0.1, \"opacity\": 1, \"hidden\": false, \"color\": \"red\"}, \"sphere\": {\"color\": \"red\", \"radius\": 0.4, \"opacity\": 1}});\n",
       "\tviewer_16904572634059188.setStyle({\"elem\": \"O\"},{\"stick\": {\"radius\": 0.1, \"opacity\": 1, \"hidden\": false, \"color\": \"blue\"}, \"sphere\": {\"color\": \"blue\", \"radius\": 0.4, \"opacity\": 1}});\n",
       "\tviewer_16904572634059188.addLabel(\"Abs\",{\"fontColor\": \"black\", \"fontSize\": 14, \"backgroundColor\": \"white\", \"backgroundOpacity\": 0.8, \"showBackground\": true},{\"index\": 0});\n",
       "\tviewer_16904572634059188.zoomTo();\n",
       "viewer_16904572634059188.render();\n",
       "});\n",
       "</script>"
      ]
     },
     "metadata": {},
     "output_type": "display_data"
    },
    {
     "name": "stdout",
     "output_type": "stream",
     "text": [
      "[struct2xas] INFO : {'Co': 'red', 'Zn': 'green', 'O': 'blue'}\n",
      "[struct2xas] WARNING : 3D displayed image does not consider partial occupancy\n"
     ]
    },
    {
     "name": "stderr",
     "output_type": "stream",
     "text": [
      "--- Logging error ---\n",
      "Traceback (most recent call last):\n",
      "  File \"C:\\Users\\jade2\\miniconda3\\envs\\xray\\lib\\logging\\__init__.py\", line 1083, in emit\n",
      "    msg = self.format(record)\n",
      "  File \"C:\\Users\\jade2\\miniconda3\\envs\\xray\\lib\\logging\\__init__.py\", line 927, in format\n",
      "    return fmt.format(record)\n",
      "  File \"C:\\Users\\jade2\\miniconda3\\envs\\xray\\lib\\logging\\__init__.py\", line 663, in format\n",
      "    record.message = record.getMessage()\n",
      "  File \"C:\\Users\\jade2\\miniconda3\\envs\\xray\\lib\\logging\\__init__.py\", line 367, in getMessage\n",
      "    msg = msg % self.args\n",
      "TypeError: not all arguments converted during string formatting\n",
      "Call stack:\n",
      "  File \"C:\\Users\\jade2\\miniconda3\\envs\\xray\\lib\\runpy.py\", line 197, in _run_module_as_main\n",
      "    return _run_code(code, main_globals, None,\n",
      "  File \"C:\\Users\\jade2\\miniconda3\\envs\\xray\\lib\\runpy.py\", line 87, in _run_code\n",
      "    exec(code, run_globals)\n",
      "  File \"C:\\Users\\jade2\\miniconda3\\envs\\xray\\lib\\site-packages\\ipykernel_launcher.py\", line 17, in <module>\n",
      "    app.launch_new_instance()\n",
      "  File \"C:\\Users\\jade2\\miniconda3\\envs\\xray\\lib\\site-packages\\traitlets\\config\\application.py\", line 1043, in launch_instance\n",
      "    app.start()\n",
      "  File \"C:\\Users\\jade2\\miniconda3\\envs\\xray\\lib\\site-packages\\ipykernel\\kernelapp.py\", line 728, in start\n",
      "    self.io_loop.start()\n",
      "  File \"C:\\Users\\jade2\\miniconda3\\envs\\xray\\lib\\site-packages\\tornado\\platform\\asyncio.py\", line 195, in start\n",
      "    self.asyncio_loop.run_forever()\n",
      "  File \"C:\\Users\\jade2\\miniconda3\\envs\\xray\\lib\\asyncio\\base_events.py\", line 601, in run_forever\n",
      "    self._run_once()\n",
      "  File \"C:\\Users\\jade2\\miniconda3\\envs\\xray\\lib\\asyncio\\base_events.py\", line 1905, in _run_once\n",
      "    handle._run()\n",
      "  File \"C:\\Users\\jade2\\miniconda3\\envs\\xray\\lib\\asyncio\\events.py\", line 80, in _run\n",
      "    self._context.run(self._callback, *self._args)\n",
      "  File \"C:\\Users\\jade2\\miniconda3\\envs\\xray\\lib\\site-packages\\ipykernel\\kernelbase.py\", line 516, in dispatch_queue\n",
      "    await self.process_one()\n",
      "  File \"C:\\Users\\jade2\\miniconda3\\envs\\xray\\lib\\site-packages\\ipykernel\\kernelbase.py\", line 505, in process_one\n",
      "    await dispatch(*args)\n",
      "  File \"C:\\Users\\jade2\\miniconda3\\envs\\xray\\lib\\site-packages\\ipykernel\\kernelbase.py\", line 412, in dispatch_shell\n",
      "    await result\n",
      "  File \"C:\\Users\\jade2\\miniconda3\\envs\\xray\\lib\\site-packages\\ipykernel\\kernelbase.py\", line 740, in execute_request\n",
      "    reply_content = await reply_content\n",
      "  File \"C:\\Users\\jade2\\miniconda3\\envs\\xray\\lib\\site-packages\\ipykernel\\ipkernel.py\", line 422, in do_execute\n",
      "    res = shell.run_cell(\n",
      "  File \"C:\\Users\\jade2\\miniconda3\\envs\\xray\\lib\\site-packages\\ipykernel\\zmqshell.py\", line 540, in run_cell\n",
      "    return super().run_cell(*args, **kwargs)\n",
      "  File \"C:\\Users\\jade2\\miniconda3\\envs\\xray\\lib\\site-packages\\IPython\\core\\interactiveshell.py\", line 3009, in run_cell\n",
      "    result = self._run_cell(\n",
      "  File \"C:\\Users\\jade2\\miniconda3\\envs\\xray\\lib\\site-packages\\IPython\\core\\interactiveshell.py\", line 3064, in _run_cell\n",
      "    result = runner(coro)\n",
      "  File \"C:\\Users\\jade2\\miniconda3\\envs\\xray\\lib\\site-packages\\IPython\\core\\async_helpers.py\", line 129, in _pseudo_sync_runner\n",
      "    coro.send(None)\n",
      "  File \"C:\\Users\\jade2\\miniconda3\\envs\\xray\\lib\\site-packages\\IPython\\core\\interactiveshell.py\", line 3269, in run_cell_async\n",
      "    has_raised = await self.run_ast_nodes(code_ast.body, cell_name,\n",
      "  File \"C:\\Users\\jade2\\miniconda3\\envs\\xray\\lib\\site-packages\\IPython\\core\\interactiveshell.py\", line 3448, in run_ast_nodes\n",
      "    if await self.run_code(code, result, async_=asy):\n",
      "  File \"C:\\Users\\jade2\\miniconda3\\envs\\xray\\lib\\site-packages\\IPython\\core\\interactiveshell.py\", line 3508, in run_code\n",
      "    exec(code_obj, self.user_global_ns, self.user_ns)\n",
      "  File \"C:\\Users\\jade2\\AppData\\Local\\Temp\\ipykernel_6276\\4137185035.py\", line 10, in <module>\n",
      "    s.visualize(radius=7)\n",
      "  File \"C:\\Users\\jade2\\Dropbox (Personal)\\Jade_CNRS_Internship\\heo-xas-xrd\\struct2xas.py\", line 1149, in visualize\n",
      "    logger.info(\"check atoms occupancy here:\", self.atoms_occu)\n",
      "Message: 'check atoms occupancy here:'\n",
      "Arguments: (['Co0.15 Zn0.85', 'O1'],)\n"
     ]
    }
   ],
   "source": [
    "elem = 'Co'\n",
    "outpath = 'FDMNES/CoO_Oh'\n",
    "n = Co15Zn85O\n",
    "path = join(root, n + '.cif')\n",
    "s = Struct2XAS(path, elem)\n",
    "sites = s.get_abs_sites()\n",
    "print(sites)\n",
    "s.set_abs_site(0) # corresponds to abs_index, the first element printed from the line above\n",
    "# s.make_input_fdmnes(6, template=template, output_path=outpath, name=n, green=False)\n",
    "s.visualize(radius=7)"
   ]
  },
  {
   "cell_type": "code",
   "execution_count": null,
   "id": "f480f800",
   "metadata": {},
   "outputs": [],
   "source": [
    "def plot_job(path, label):\n",
    "    arr = np.genfromtxt(path, skip_header=4).transpose()\n",
    "    plt.plot(arr[0], arr[1], label=label)\n",
    "\n",
    "plot_job('FDMNES/5-cation_solidsolution/Cu/job_conv.txt', 'Cu(R)')\n",
    "# plt.plot(arr[0], arr[1], label='Cu (R)')\n",
    "# arr2 = np.genfromtxt('FDMNES/CuO_Tenorite/job_conv.txt', skip_header=4).transpose()\n",
    "# plt.plot(arr2[0], arr2[1], label='Cu (T)')\n",
    "# arr3 = np.genfromtxt('FDMNES/5-cation_solidsolution/Co/job_conv.txt', skip_header=4).transpose()\n",
    "# plt.plot(arr3[0], arr3[1], label='Co (R)')\n",
    "# arr = np.genfromtxt('FDMNES/CuO_Tenorite/directcif/job.txt', skip_header=4).transpose()\n",
    "# plt.plot(arr[0], arr[1], label='using CIF directly')\n",
    "# arr1 = np.genfromtxt('FDMNES/CuO_Tenorite/s2x/job_s2x.txt', skip_header=4).transpose()\n",
    "# plt.plot(arr1[0], arr1[1], label='using struct2XAS pre-gen file')\n",
    "\n",
    "arr = np.genfromtxt('FDMNES/COD4105682.txt', skip_header=4).transpose()\n",
    "arr1 = np.genfromtxt('../Data/BM23_Averaging_PyMCA/Cu_Kedge/CuO_Aldritch_RT.csv', delimiter=',').transpose()\n",
    "print(arr.shape)\n",
    "print(arr1.shape)\n",
    "plt.plot(arr[0], arr[1], label='CuO (T) FDMNES')\n",
    "plt.plot(arr1[0]*1000 - 8984, arr1[1] * 6, label='CuO Aldritch (T) BM23')\n",
    "plt.xlim(-30,250)\n",
    "plt.legend()\n",
    "plt.savefig('Output/CuO_T', dpi=150)\n",
    "plt.show()"
   ]
  },
  {
   "cell_type": "code",
   "execution_count": null,
   "id": "ae53a8a0",
   "metadata": {},
   "outputs": [],
   "source": [
    "# s.make_input_feff(5, template='feff_exafs.tmpl', parent_path='Output')"
   ]
  },
  {
   "cell_type": "code",
   "execution_count": null,
   "id": "34fa3f88",
   "metadata": {},
   "outputs": [],
   "source": [
    "# s.get_coord_envs()"
   ]
  },
  {
   "cell_type": "code",
   "execution_count": null,
   "id": "11c5b554",
   "metadata": {},
   "outputs": [],
   "source": [
    "# s.visualize(radius=5)"
   ]
  }
 ],
 "metadata": {
  "kernelspec": {
   "display_name": "Python 3 (ipykernel)",
   "language": "python",
   "name": "python3"
  },
  "language_info": {
   "codemirror_mode": {
    "name": "ipython",
    "version": 3
   },
   "file_extension": ".py",
   "mimetype": "text/x-python",
   "name": "python",
   "nbconvert_exporter": "python",
   "pygments_lexer": "ipython3",
   "version": "3.9.17"
  }
 },
 "nbformat": 4,
 "nbformat_minor": 5
}
