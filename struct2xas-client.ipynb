{
 "cells": [
  {
   "cell_type": "code",
   "execution_count": null,
   "id": "c4a9bd7a",
   "metadata": {},
   "outputs": [],
   "source": [
    "from os.path import join\n",
    "\n",
    "import numpy as np\n",
    "import matplotlib.pyplot as plt\n",
    "\n",
    "from struct2xas import Struct2XAS"
   ]
  },
  {
   "cell_type": "code",
   "execution_count": null,
   "id": "7b8e9d6a",
   "metadata": {},
   "outputs": [],
   "source": [
    "root = r\"../Data/CIF_references\"\n",
    "elem = 'Zn'\n",
    "namesZnO_W = ['EntryWithCollCode157724', 'EntryWithCollCode154486'] # ICSD\n",
    "namesZnO_R = ['EntryWithCollCode190807', 'EntryWithCollCode57156'] # ICSD\n",
    "# namesZnO_Sp = ['ICSD_CollCode73755', ] # I need to download these; there are many"
   ]
  },
  {
   "cell_type": "code",
   "execution_count": null,
   "id": "d1092f0d",
   "metadata": {},
   "outputs": [],
   "source": [
    "fdmfileloc = 'FDMNES/ESRF_Cluster/2023-07-24'\n",
    "outpath = 'FDMNES/ESRF_Cluster/2023-07-24/ZnO_R'\n",
    "for n in namesZnO_R:\n",
    "    path = join(root, n + '.cif')\n",
    "    s = Struct2XAS(path, elem)\n",
    "    sites = s.get_abs_sites()\n",
    "    print(sites)\n",
    "    s.set_abs_site(0) # corresponds to abs_index, the first element printed from the line above\n",
    "    s.make_input_fdmnes(5, template='fdmnes.tmpl', parent_path=fdmfileloc, output_path=outpath, name=n, green=False)"
   ]
  },
  {
   "cell_type": "code",
   "execution_count": null,
   "id": "f480f800",
   "metadata": {},
   "outputs": [],
   "source": [
    "# arr = np.genfromtxt('FDMNES/5-cation_solidsolution/Cu/job_conv.txt', skip_header=4).transpose()\n",
    "# plt.plot(arr[0], arr[1], label='Cu (R)')\n",
    "# arr2 = np.genfromtxt('FDMNES/CuO_Tenorite/job_conv.txt', skip_header=4).transpose()\n",
    "# plt.plot(arr2[0], arr2[1], label='Cu (T)')\n",
    "# arr3 = np.genfromtxt('FDMNES/5-cation_solidsolution/Co/job_conv.txt', skip_header=4).transpose()\n",
    "# plt.plot(arr3[0], arr3[1], label='Co (R)')\n",
    "arr = np.genfromtxt('FDMNES/CuO_Tenorite/directcif/job.txt', skip_header=4).transpose()\n",
    "plt.plot(arr[0], arr[1], label='using CIF directly')\n",
    "arr1 = np.genfromtxt('FDMNES/CuO_Tenorite/s2x/job_s2x.txt', skip_header=4).transpose()\n",
    "plt.plot(arr1[0], arr1[1], label='using struct2XAS pre-gen file')\n",
    "# print(arr1-arr)\n",
    "plt.legend()\n",
    "plt.show()"
   ]
  },
  {
   "cell_type": "code",
   "execution_count": null,
   "id": "ae53a8a0",
   "metadata": {},
   "outputs": [],
   "source": [
    "# s.make_input_feff(5, template='feff_exafs.tmpl', parent_path='Output')"
   ]
  },
  {
   "cell_type": "code",
   "execution_count": null,
   "id": "34fa3f88",
   "metadata": {},
   "outputs": [],
   "source": [
    "# s.get_coord_envs()"
   ]
  },
  {
   "cell_type": "code",
   "execution_count": null,
   "id": "11c5b554",
   "metadata": {},
   "outputs": [],
   "source": [
    "# s.visualize(radius=5)"
   ]
  }
 ],
 "metadata": {
  "kernelspec": {
   "display_name": "Python 3 (ipykernel)",
   "language": "python",
   "name": "python3"
  },
  "language_info": {
   "codemirror_mode": {
    "name": "ipython",
    "version": 3
   },
   "file_extension": ".py",
   "mimetype": "text/x-python",
   "name": "python",
   "nbconvert_exporter": "python",
   "pygments_lexer": "ipython3",
   "version": "3.9.17"
  }
 },
 "nbformat": 4,
 "nbformat_minor": 5
}
