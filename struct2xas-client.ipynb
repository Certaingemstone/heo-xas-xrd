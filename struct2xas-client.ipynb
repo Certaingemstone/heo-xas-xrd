{
 "cells": [
  {
   "cell_type": "code",
   "execution_count": 1,
   "id": "c4a9bd7a",
   "metadata": {},
   "outputs": [],
   "source": [
    "from os.path import join\n",
    "from os import getcwd\n",
    "\n",
    "import numpy as np\n",
    "import matplotlib.pyplot as plt\n",
    "\n",
    "from struct2xas import Struct2XAS"
   ]
  },
  {
   "cell_type": "code",
   "execution_count": 2,
   "id": "5a2e02f7",
   "metadata": {},
   "outputs": [],
   "source": [
    "root = r\"C:\\Users\\jade2\\Dropbox (Personal)\\Jade_CNRS_Internship\\Data\\CIF_references\"\n",
    "template = r\"C:\\Users\\jade2\\Dropbox (Personal)\\Jade_CNRS_Internship\\heo-xas-xrd\\fdmnes.tmpl\" # for cluster calculation\n",
    "template_test = r\"C:\\Users\\jade2\\Dropbox (Personal)\\Jade_CNRS_Internship\\heo-xas-xrd\\fdmnes_test.tmpl\" # for local calculation\n",
    "\n",
    "# namesZnO_W = ['EntryWithCollCode157724', 'EntryWithCollCode154486'] # ICSD\n",
    "# namesZnO_R = ['EntryWithCollCode190807', 'EntryWithCollCode57156'] # ICSD\n",
    "# namesCuO_T = ['COD4105682', 'COD9008961']\n",
    "# namesNiO_R = ['EntryWithCollCode9866']\n",
    "\n",
    "# namesCo3O4 = ['COD9005892', 'COD1526734']\n",
    "# namesCoO = ['COD1528838', 'COD1533087']\n",
    "# ZnCo2O4 = 'COD5910136'\n",
    "Co15Zn85O = 'COD1533020'\n",
    "\n",
    "CoCoSpinel = 'EntryWithCollCode24210'\n",
    "CuCoSpinel = 'EntryWithCollCode36356_modif'\n",
    "# MgCoSpinel = '' # seems to have the same issue as that one other spinel\n",
    "NiCoSpinel = 'EntryWithCollCode181262'\n",
    "Zn037Co263Spinel = 'EntryWithCollCode261867' # seems to crash struct2XAS when I try to get Zn. It also doesn't seem to recognize partial occupancy correctly.\n",
    "ZnCo2O4Spinel_partialocc = 'EntryWithCollCode73758'\n",
    "ZnCo2O4Spinel_mod = 'EntryWithCollCode5974'\n",
    "ZnOBlende = 'EntryWithCollCode647683'\n",
    "# ZnOWurtz = r'Spinels\\ZnO_W\\EntryWithCollCode154486' # already done\n",
    "# ZnORock = r'Spinels\\ZnO_R\\EntryWithCollCode190807' # already done"
   ]
  },
  {
   "cell_type": "code",
   "execution_count": 24,
   "id": "3c10ca95",
   "metadata": {},
   "outputs": [
    {
     "name": "stdout",
     "output_type": "stream",
     "text": [
      "[struct2xas] INFO : Frames: 1, Absorbing sites: 1. (Indexes for frames and abs_sites start at 0)\n",
      "[[0, 'Zn0+', [0.0, 0.0, 0.0], '4a', array([0., 0., 0.]), 1, 0]]\n"
     ]
    },
    {
     "data": {
      "application/3dmoljs_load.v0": "<div id=\"3dmolviewer_16911508186464677\"  style=\"position: relative; width: 600px; height: 600px\">\n        <p id=\"3dmolwarning_16911508186464677\" style=\"background-color:#ffcccc;color:black\">You appear to be running in JupyterLab (or JavaScript failed to load for some other reason).  You need to install the 3dmol extension: <br>\n        <tt>jupyter labextension install jupyterlab_3dmol</tt></p>\n        </div>\n<script>\n\nvar loadScriptAsync = function(uri){\n  return new Promise((resolve, reject) => {\n    //this is to ignore the existence of requirejs amd\n    var savedexports, savedmodule;\n    if (typeof exports !== 'undefined') savedexports = exports;\n    else exports = {}\n    if (typeof module !== 'undefined') savedmodule = module;\n    else module = {}\n\n    var tag = document.createElement('script');\n    tag.src = uri;\n    tag.async = true;\n    tag.onload = () => {\n        exports = savedexports;\n        module = savedmodule;\n        resolve();\n    };\n  var firstScriptTag = document.getElementsByTagName('script')[0];\n  firstScriptTag.parentNode.insertBefore(tag, firstScriptTag);\n});\n};\n\nif(typeof $3Dmolpromise === 'undefined') {\n$3Dmolpromise = null;\n  $3Dmolpromise = loadScriptAsync('https://cdnjs.cloudflare.com/ajax/libs/3Dmol/2.0.1/3Dmol-min.js');\n}\n\nvar viewer_16911508186464677 = null;\nvar warn = document.getElementById(\"3dmolwarning_16911508186464677\");\nif(warn) {\n    warn.parentNode.removeChild(warn);\n}\n$3Dmolpromise.then(function() {\nviewer_16911508186464677 = $3Dmol.createViewer(document.getElementById(\"3dmolviewer_16911508186464677\"),{backgroundColor:\"white\"});\nviewer_16911508186464677.zoomTo();\n\tviewer_16911508186464677.addModel(\"123\\n\\nZn 0.000000 0.000000 0.000000\\nO -1.157500 -1.157500 1.157500\\nO -1.157500 1.157500 -1.157500\\nO 1.157500 -1.157500 -1.157500\\nO 1.157500 1.157500 1.157500\\nZn -2.315000 -2.315000 -0.000000\\nZn -2.315000 0.000000 -2.315000\\nZn -2.315000 2.315000 0.000000\\nZn -2.315000 0.000000 2.315000\\nZn -0.000000 -2.315000 -2.315000\\nZn 2.315000 -2.315000 0.000000\\nZn -0.000000 -2.315000 2.315000\\nZn 2.315000 0.000000 -2.315000\\nZn 0.000000 2.315000 -2.315000\\nZn 2.315000 2.315000 0.000000\\nZn 2.315000 0.000000 2.315000\\nZn 0.000000 2.315000 2.315000\\nO -3.472500 -1.157500 -1.157500\\nO -1.157500 -3.472500 -1.157500\\nO -1.157500 -1.157500 -3.472500\\nO -3.472500 1.157500 1.157500\\nO -1.157500 1.157500 3.472500\\nO -1.157500 3.472500 1.157500\\nO 1.157500 -3.472500 1.157500\\nO 1.157500 -1.157500 3.472500\\nO 3.472500 -1.157500 1.157500\\nO 1.157500 1.157500 -3.472500\\nO 1.157500 3.472500 -1.157500\\nO 3.472500 1.157500 -1.157500\\nZn -4.630000 0.000000 -0.000000\\nZn -0.000000 -4.630000 -0.000000\\nZn 0.000000 0.000000 -4.630000\\nZn 4.630000 0.000000 0.000000\\nZn 0.000000 4.630000 0.000000\\nZn 0.000000 0.000000 4.630000\\nO -3.472500 -3.472500 1.157500\\nO -3.472500 -1.157500 3.472500\\nO -1.157500 -3.472500 3.472500\\nO -3.472500 1.157500 -3.472500\\nO -3.472500 3.472500 -1.157500\\nO -1.157500 3.472500 -3.472500\\nO 1.157500 -3.472500 -3.472500\\nO 3.472500 -3.472500 -1.157500\\nO 3.472500 -1.157500 -3.472500\\nO 1.157500 3.472500 3.472500\\nO 3.472500 1.157500 3.472500\\nO 3.472500 3.472500 1.157500\\nZn -2.315000 -2.315000 -4.630000\\nZn -2.315000 -4.630000 -2.315000\\nZn -4.630000 -2.315000 -2.315000\\nZn -2.315000 -2.315000 4.630000\\nZn -2.315000 -4.630000 2.315000\\nZn -4.630000 -2.315000 2.315000\\nZn -2.315000 4.630000 -2.315000\\nZn -2.315000 2.315000 -4.630000\\nZn -4.630000 2.315000 -2.315000\\nZn -2.315000 4.630000 2.315000\\nZn -2.315000 2.315000 4.630000\\nZn -4.630000 2.315000 2.315000\\nZn 4.630000 -2.315000 -2.315000\\nZn 2.315000 -2.315000 -4.630000\\nZn 2.315000 -4.630000 -2.315000\\nZn 4.630000 -2.315000 2.315000\\nZn 2.315000 -2.315000 4.630000\\nZn 2.315000 -4.630000 2.315000\\nZn 4.630000 2.315000 -2.315000\\nZn 2.315000 4.630000 -2.315000\\nZn 2.315000 2.315000 -4.630000\\nZn 4.630000 2.315000 2.315000\\nZn 2.315000 4.630000 2.315000\\nZn 2.315000 2.315000 4.630000\\nO -3.472500 -3.472500 -3.472500\\nO -1.157500 -1.157500 5.787500\\nO -1.157500 -5.787500 1.157500\\nO -5.787500 -1.157500 1.157500\\nO -1.157500 5.787500 -1.157500\\nO -1.157500 1.157500 -5.787500\\nO -5.787500 1.157500 -1.157500\\nO -3.472500 3.472500 3.472500\\nO 5.787500 -1.157500 -1.157500\\nO 1.157500 -1.157500 -5.787500\\nO 1.157500 -5.787500 -1.157500\\nO 3.472500 -3.472500 3.472500\\nO 3.472500 3.472500 -3.472500\\nO 5.787500 1.157500 1.157500\\nO 1.157500 5.787500 1.157500\\nO 1.157500 1.157500 5.787500\\nZn -4.630000 -4.630000 -0.000000\\nZn -4.630000 0.000000 -4.630000\\nZn -4.630000 4.630000 0.000000\\nZn -4.630000 0.000000 4.630000\\nZn -0.000000 -4.630000 -4.630000\\nZn 4.630000 -4.630000 0.000000\\nZn -0.000000 -4.630000 4.630000\\nZn 4.630000 0.000000 -4.630000\\nZn 0.000000 4.630000 -4.630000\\nZn 4.630000 4.630000 0.000000\\nZn 4.630000 0.000000 4.630000\\nZn 0.000000 4.630000 4.630000\\nO -3.472500 -1.157500 -5.787500\\nO -1.157500 -3.472500 -5.787500\\nO -3.472500 -5.787500 -1.157500\\nO -1.157500 -5.787500 -3.472500\\nO -5.787500 -3.472500 -1.157500\\nO -5.787500 -1.157500 -3.472500\\nO -3.472500 5.787500 1.157500\\nO -1.157500 5.787500 3.472500\\nO -3.472500 1.157500 5.787500\\nO -1.157500 3.472500 5.787500\\nO -5.787500 1.157500 3.472500\\nO -5.787500 3.472500 1.157500\\nO 5.787500 -3.472500 1.157500\\nO 5.787500 -1.157500 3.472500\\nO 1.157500 -3.472500 5.787500\\nO 3.472500 -1.157500 5.787500\\nO 1.157500 -5.787500 3.472500\\nO 3.472500 -5.787500 1.157500\\nO 5.787500 1.157500 -3.472500\\nO 5.787500 3.472500 -1.157500\\nO 1.157500 5.787500 -3.472500\\nO 3.472500 5.787500 -1.157500\\nO 1.157500 3.472500 -5.787500\\nO 3.472500 1.157500 -5.787500\\n\",\"xyz\");\n\tviewer_16911508186464677.setStyle({\"elem\": \"O\"},{\"stick\": {\"radius\": 0.1, \"opacity\": 1, \"hidden\": false, \"color\": \"green\"}, \"sphere\": {\"color\": \"green\", \"radius\": 0.4, \"opacity\": 1}});\n\tviewer_16911508186464677.setStyle({\"elem\": \"Zn\"},{\"stick\": {\"radius\": 0.1, \"opacity\": 1, \"hidden\": false, \"color\": \"red\"}, \"sphere\": {\"color\": \"red\", \"radius\": 0.4, \"opacity\": 1}});\n\tviewer_16911508186464677.addLabel(\"Abs\",{\"fontColor\": \"black\", \"fontSize\": 14, \"backgroundColor\": \"white\", \"backgroundOpacity\": 0.8, \"showBackground\": true},{\"index\": 0});\n\tviewer_16911508186464677.zoomTo();\nviewer_16911508186464677.render();\n});\n</script>",
      "text/html": [
       "<div id=\"3dmolviewer_16911508186464677\"  style=\"position: relative; width: 600px; height: 600px\">\n",
       "        <p id=\"3dmolwarning_16911508186464677\" style=\"background-color:#ffcccc;color:black\">You appear to be running in JupyterLab (or JavaScript failed to load for some other reason).  You need to install the 3dmol extension: <br>\n",
       "        <tt>jupyter labextension install jupyterlab_3dmol</tt></p>\n",
       "        </div>\n",
       "<script>\n",
       "\n",
       "var loadScriptAsync = function(uri){\n",
       "  return new Promise((resolve, reject) => {\n",
       "    //this is to ignore the existence of requirejs amd\n",
       "    var savedexports, savedmodule;\n",
       "    if (typeof exports !== 'undefined') savedexports = exports;\n",
       "    else exports = {}\n",
       "    if (typeof module !== 'undefined') savedmodule = module;\n",
       "    else module = {}\n",
       "\n",
       "    var tag = document.createElement('script');\n",
       "    tag.src = uri;\n",
       "    tag.async = true;\n",
       "    tag.onload = () => {\n",
       "        exports = savedexports;\n",
       "        module = savedmodule;\n",
       "        resolve();\n",
       "    };\n",
       "  var firstScriptTag = document.getElementsByTagName('script')[0];\n",
       "  firstScriptTag.parentNode.insertBefore(tag, firstScriptTag);\n",
       "});\n",
       "};\n",
       "\n",
       "if(typeof $3Dmolpromise === 'undefined') {\n",
       "$3Dmolpromise = null;\n",
       "  $3Dmolpromise = loadScriptAsync('https://cdnjs.cloudflare.com/ajax/libs/3Dmol/2.0.1/3Dmol-min.js');\n",
       "}\n",
       "\n",
       "var viewer_16911508186464677 = null;\n",
       "var warn = document.getElementById(\"3dmolwarning_16911508186464677\");\n",
       "if(warn) {\n",
       "    warn.parentNode.removeChild(warn);\n",
       "}\n",
       "$3Dmolpromise.then(function() {\n",
       "viewer_16911508186464677 = $3Dmol.createViewer(document.getElementById(\"3dmolviewer_16911508186464677\"),{backgroundColor:\"white\"});\n",
       "viewer_16911508186464677.zoomTo();\n",
       "\tviewer_16911508186464677.addModel(\"123\\n\\nZn 0.000000 0.000000 0.000000\\nO -1.157500 -1.157500 1.157500\\nO -1.157500 1.157500 -1.157500\\nO 1.157500 -1.157500 -1.157500\\nO 1.157500 1.157500 1.157500\\nZn -2.315000 -2.315000 -0.000000\\nZn -2.315000 0.000000 -2.315000\\nZn -2.315000 2.315000 0.000000\\nZn -2.315000 0.000000 2.315000\\nZn -0.000000 -2.315000 -2.315000\\nZn 2.315000 -2.315000 0.000000\\nZn -0.000000 -2.315000 2.315000\\nZn 2.315000 0.000000 -2.315000\\nZn 0.000000 2.315000 -2.315000\\nZn 2.315000 2.315000 0.000000\\nZn 2.315000 0.000000 2.315000\\nZn 0.000000 2.315000 2.315000\\nO -3.472500 -1.157500 -1.157500\\nO -1.157500 -3.472500 -1.157500\\nO -1.157500 -1.157500 -3.472500\\nO -3.472500 1.157500 1.157500\\nO -1.157500 1.157500 3.472500\\nO -1.157500 3.472500 1.157500\\nO 1.157500 -3.472500 1.157500\\nO 1.157500 -1.157500 3.472500\\nO 3.472500 -1.157500 1.157500\\nO 1.157500 1.157500 -3.472500\\nO 1.157500 3.472500 -1.157500\\nO 3.472500 1.157500 -1.157500\\nZn -4.630000 0.000000 -0.000000\\nZn -0.000000 -4.630000 -0.000000\\nZn 0.000000 0.000000 -4.630000\\nZn 4.630000 0.000000 0.000000\\nZn 0.000000 4.630000 0.000000\\nZn 0.000000 0.000000 4.630000\\nO -3.472500 -3.472500 1.157500\\nO -3.472500 -1.157500 3.472500\\nO -1.157500 -3.472500 3.472500\\nO -3.472500 1.157500 -3.472500\\nO -3.472500 3.472500 -1.157500\\nO -1.157500 3.472500 -3.472500\\nO 1.157500 -3.472500 -3.472500\\nO 3.472500 -3.472500 -1.157500\\nO 3.472500 -1.157500 -3.472500\\nO 1.157500 3.472500 3.472500\\nO 3.472500 1.157500 3.472500\\nO 3.472500 3.472500 1.157500\\nZn -2.315000 -2.315000 -4.630000\\nZn -2.315000 -4.630000 -2.315000\\nZn -4.630000 -2.315000 -2.315000\\nZn -2.315000 -2.315000 4.630000\\nZn -2.315000 -4.630000 2.315000\\nZn -4.630000 -2.315000 2.315000\\nZn -2.315000 4.630000 -2.315000\\nZn -2.315000 2.315000 -4.630000\\nZn -4.630000 2.315000 -2.315000\\nZn -2.315000 4.630000 2.315000\\nZn -2.315000 2.315000 4.630000\\nZn -4.630000 2.315000 2.315000\\nZn 4.630000 -2.315000 -2.315000\\nZn 2.315000 -2.315000 -4.630000\\nZn 2.315000 -4.630000 -2.315000\\nZn 4.630000 -2.315000 2.315000\\nZn 2.315000 -2.315000 4.630000\\nZn 2.315000 -4.630000 2.315000\\nZn 4.630000 2.315000 -2.315000\\nZn 2.315000 4.630000 -2.315000\\nZn 2.315000 2.315000 -4.630000\\nZn 4.630000 2.315000 2.315000\\nZn 2.315000 4.630000 2.315000\\nZn 2.315000 2.315000 4.630000\\nO -3.472500 -3.472500 -3.472500\\nO -1.157500 -1.157500 5.787500\\nO -1.157500 -5.787500 1.157500\\nO -5.787500 -1.157500 1.157500\\nO -1.157500 5.787500 -1.157500\\nO -1.157500 1.157500 -5.787500\\nO -5.787500 1.157500 -1.157500\\nO -3.472500 3.472500 3.472500\\nO 5.787500 -1.157500 -1.157500\\nO 1.157500 -1.157500 -5.787500\\nO 1.157500 -5.787500 -1.157500\\nO 3.472500 -3.472500 3.472500\\nO 3.472500 3.472500 -3.472500\\nO 5.787500 1.157500 1.157500\\nO 1.157500 5.787500 1.157500\\nO 1.157500 1.157500 5.787500\\nZn -4.630000 -4.630000 -0.000000\\nZn -4.630000 0.000000 -4.630000\\nZn -4.630000 4.630000 0.000000\\nZn -4.630000 0.000000 4.630000\\nZn -0.000000 -4.630000 -4.630000\\nZn 4.630000 -4.630000 0.000000\\nZn -0.000000 -4.630000 4.630000\\nZn 4.630000 0.000000 -4.630000\\nZn 0.000000 4.630000 -4.630000\\nZn 4.630000 4.630000 0.000000\\nZn 4.630000 0.000000 4.630000\\nZn 0.000000 4.630000 4.630000\\nO -3.472500 -1.157500 -5.787500\\nO -1.157500 -3.472500 -5.787500\\nO -3.472500 -5.787500 -1.157500\\nO -1.157500 -5.787500 -3.472500\\nO -5.787500 -3.472500 -1.157500\\nO -5.787500 -1.157500 -3.472500\\nO -3.472500 5.787500 1.157500\\nO -1.157500 5.787500 3.472500\\nO -3.472500 1.157500 5.787500\\nO -1.157500 3.472500 5.787500\\nO -5.787500 1.157500 3.472500\\nO -5.787500 3.472500 1.157500\\nO 5.787500 -3.472500 1.157500\\nO 5.787500 -1.157500 3.472500\\nO 1.157500 -3.472500 5.787500\\nO 3.472500 -1.157500 5.787500\\nO 1.157500 -5.787500 3.472500\\nO 3.472500 -5.787500 1.157500\\nO 5.787500 1.157500 -3.472500\\nO 5.787500 3.472500 -1.157500\\nO 1.157500 5.787500 -3.472500\\nO 3.472500 5.787500 -1.157500\\nO 1.157500 3.472500 -5.787500\\nO 3.472500 1.157500 -5.787500\\n\",\"xyz\");\n",
       "\tviewer_16911508186464677.setStyle({\"elem\": \"O\"},{\"stick\": {\"radius\": 0.1, \"opacity\": 1, \"hidden\": false, \"color\": \"green\"}, \"sphere\": {\"color\": \"green\", \"radius\": 0.4, \"opacity\": 1}});\n",
       "\tviewer_16911508186464677.setStyle({\"elem\": \"Zn\"},{\"stick\": {\"radius\": 0.1, \"opacity\": 1, \"hidden\": false, \"color\": \"red\"}, \"sphere\": {\"color\": \"red\", \"radius\": 0.4, \"opacity\": 1}});\n",
       "\tviewer_16911508186464677.addLabel(\"Abs\",{\"fontColor\": \"black\", \"fontSize\": 14, \"backgroundColor\": \"white\", \"backgroundOpacity\": 0.8, \"showBackground\": true},{\"index\": 0});\n",
       "\tviewer_16911508186464677.zoomTo();\n",
       "viewer_16911508186464677.render();\n",
       "});\n",
       "</script>"
      ]
     },
     "metadata": {},
     "output_type": "display_data"
    },
    {
     "name": "stdout",
     "output_type": "stream",
     "text": [
      "[struct2xas] INFO : {'Zn': 'red', 'O': 'green'}\n",
      "Continue and write files? (y/n)y\n",
      "[struct2xas] INFO : written FDMNES input fdmfile -> Spinels/ZnOBlende_B-Td.txt\n",
      "[struct2xas] INFO : written FDMNES main input -> local_FDMNES/Spinels\\ZnOBlende_B-Td_inp.txt\n",
      "[struct2xas] INFO : written FDMNES input fdmfile -> Spinels/ZnOBlende_B-Td.txt\n",
      "[struct2xas] INFO : written FDMNES main input -> FDMNES/Spinels\\ZnOBlende_B-Td_inp.txt\n"
     ]
    }
   ],
   "source": [
    "# Be sure to delete fdmfile before making the inputs for a new batch calculation (including between testing/final)!\n",
    "\n",
    "mode = 0 # 0 = no output ; 1 = test output; 2 = final output; 3 = both test and final\n",
    "elem = 'Zn'\n",
    "outpath_test = 'local_FDMNES/Spinels'\n",
    "outpath = 'FDMNES/Spinels'\n",
    "infilename = ZnOBlende\n",
    "outfilename = 'ZnOBlende_B-Td'\n",
    "\n",
    "path = join(root, infilename + '.cif')\n",
    "\n",
    "s = Struct2XAS(path, elem)\n",
    "sites = s.get_abs_sites()\n",
    "print(sites)\n",
    "s.set_abs_site(0) # corresponds to abs_index, the first element printed from the line above\n",
    "\n",
    "s.visualize(radius=7)\n",
    "\n",
    "if mode != 0 and input(\"Continue and write files? (y/n)\") == 'y':\n",
    "    if mode == 1:\n",
    "        s.make_input_fdmnes(4, template=template_test, output_path=outpath_test, name=outfilename, green=True)\n",
    "    elif mode == 2:\n",
    "        s.make_input_fdmnes(7, template=template, output_path=outpath, name=outfilename, green=False)\n",
    "    elif mode == 3:\n",
    "        s.make_input_fdmnes(4, template=template_test, output_path=outpath_test, name=outfilename, green=True)\n",
    "        s.make_input_fdmnes(7, template=template, output_path=outpath, name=outfilename, green=False)"
   ]
  },
  {
   "cell_type": "code",
   "execution_count": null,
   "id": "f480f800",
   "metadata": {},
   "outputs": [],
   "source": [
    "def plot_job(path, label):\n",
    "    arr = np.genfromtxt(path, skip_header=4).transpose()\n",
    "    plt.plot(arr[0], arr[1], label=label)\n",
    "\n",
    "plot_job('FDMNES/5-cation_solidsolution/Cu/job_conv.txt', 'Cu(R)')\n",
    "# plt.plot(arr[0], arr[1], label='Cu (R)')\n",
    "# arr2 = np.genfromtxt('FDMNES/CuO_Tenorite/job_conv.txt', skip_header=4).transpose()\n",
    "# plt.plot(arr2[0], arr2[1], label='Cu (T)')\n",
    "# arr3 = np.genfromtxt('FDMNES/5-cation_solidsolution/Co/job_conv.txt', skip_header=4).transpose()\n",
    "# plt.plot(arr3[0], arr3[1], label='Co (R)')\n",
    "# arr = np.genfromtxt('FDMNES/CuO_Tenorite/directcif/job.txt', skip_header=4).transpose()\n",
    "# plt.plot(arr[0], arr[1], label='using CIF directly')\n",
    "# arr1 = np.genfromtxt('FDMNES/CuO_Tenorite/s2x/job_s2x.txt', skip_header=4).transpose()\n",
    "# plt.plot(arr1[0], arr1[1], label='using struct2XAS pre-gen file')\n",
    "\n",
    "arr = np.genfromtxt('FDMNES/COD4105682.txt', skip_header=4).transpose()\n",
    "arr1 = np.genfromtxt('../Data/BM23_Averaging_PyMCA/Cu_Kedge/CuO_Aldritch_RT.csv', delimiter=',').transpose()\n",
    "print(arr.shape)\n",
    "print(arr1.shape)\n",
    "plt.plot(arr[0], arr[1], label='CuO (T) FDMNES')\n",
    "plt.plot(arr1[0]*1000 - 8984, arr1[1] * 6, label='CuO Aldritch (T) BM23')\n",
    "plt.xlim(-30,250)\n",
    "plt.legend()\n",
    "plt.savefig('Output/CuO_T', dpi=150)\n",
    "plt.show()"
   ]
  },
  {
   "cell_type": "code",
   "execution_count": null,
   "id": "ae53a8a0",
   "metadata": {},
   "outputs": [],
   "source": [
    "# s.make_input_feff(5, template='feff_exafs.tmpl', parent_path='Output')"
   ]
  },
  {
   "cell_type": "code",
   "execution_count": null,
   "id": "34fa3f88",
   "metadata": {},
   "outputs": [],
   "source": [
    "# s.get_coord_envs()"
   ]
  },
  {
   "cell_type": "code",
   "execution_count": null,
   "id": "11c5b554",
   "metadata": {},
   "outputs": [],
   "source": [
    "# s.visualize(radius=5)"
   ]
  }
 ],
 "metadata": {
  "kernelspec": {
   "display_name": "Python 3 (ipykernel)",
   "language": "python",
   "name": "python3"
  },
  "language_info": {
   "codemirror_mode": {
    "name": "ipython",
    "version": 3
   },
   "file_extension": ".py",
   "mimetype": "text/x-python",
   "name": "python",
   "nbconvert_exporter": "python",
   "pygments_lexer": "ipython3",
   "version": "3.9.17"
  }
 },
 "nbformat": 4,
 "nbformat_minor": 5
}
